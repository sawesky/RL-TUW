{
 "cells": [
  {
   "cell_type": "code",
   "execution_count": 3,
   "id": "ab84635f",
   "metadata": {},
   "outputs": [],
   "source": [
    "import numpy as np\n",
    "import matplotlib.pyplot as plt\n",
    "import seaborn as sns\n",
    "from collections import defaultdict"
   ]
  },
  {
   "cell_type": "markdown",
   "id": "6b658877",
   "metadata": {},
   "source": [
    "### 1. op/qlearning – Q-learning is off-policy."
   ]
  },
  {
   "cell_type": "markdown",
   "id": "5172e107",
   "metadata": {},
   "source": [
    "Q-learning is considered off-policy because it learns the value of the optimal policy independently of the agent's actions. That is, the update rule uses the maximum estimated Q-value of the next state (i.e., assumes greedy behavior in the future) regardless of what action the agent actually takes during exploration.\n",
    "\n",
    "\\begin{equation*}\n",
    "    Q(s, a) \\leftarrow Q(s, a) + \\alpha [r + \\gamma \\max_{a'} Q(s', a') - Q(s, a)]\n",
    "\\end{equation*}\n",
    "\n",
    "This contrasts with on-policy methods like SARSA, which update based on the action actually taken."
   ]
  },
  {
   "cell_type": "markdown",
   "id": "04082f1a",
   "metadata": {},
   "source": [
    "### 2. td/sarsa/qlearning – Difference between SARSA and Q-learning.\n",
    "Is Q-learning the same algorithm as SARSA with greedy action selection? If not, why?"
   ]
  },
  {
   "cell_type": "markdown",
   "id": "c7991c49",
   "metadata": {},
   "source": [
    "No, Q-learning is not the same as SARSA, even with greedy action selection. While greedy SARSA also chooses the action $a' = \\argmax_{a'} Q(s', a')$ it uses the actual action taken during exploration, including any stochasticity. This makes SARSA an on-policy method.In contrast, Q-learning always uses $\\max_{a'}Q(s', a')$ regardless of the action taken — making it fundamentally off-policy.\n",
    "\n"
   ]
  },
  {
   "cell_type": "markdown",
   "id": "a860effa",
   "metadata": {},
   "source": [
    "### 3. td/tab/grad – Tabular updates as gradient descent."
   ]
  },
  {
   "cell_type": "markdown",
   "id": "b0253946",
   "metadata": {},
   "source": [
    "In order to (locally) minimize a function $f: \\mathbb{R}^d \\mapsto \\mathbb{R}$, we can use the gradient-descent iteration:\n",
    "\n",
    "\\begin{equation*}\n",
    "    x_{t + 1} := x_t - \\alpha_t \\nabla f(x_t)\n",
    "\\end{equation*}\n",
    "\n",
    "Find a function $f$ whose gradient-descent iteration is the general tabular update formula.\n",
    "\n",
    "\\begin{equation*}\n",
    "    V(S_t) := V(S_t) + \\alpha_t (Y_t - V(S_t))\n",
    "\\end{equation*}\n",
    "\n",
    "while assuming that the gradient of the target $Y_t$ vanishes."
   ]
  },
  {
   "cell_type": "markdown",
   "id": "1c5e0287",
   "metadata": {},
   "source": [
    "Let $x = V(S_t)$ and let:\n",
    "\n",
    "\\begin{equation*}\n",
    "    f(x) = \\frac{1}{2}(Y_t - x)^2\n",
    "\\end{equation*}\n",
    "\n",
    "Then we have:\n",
    "\n",
    "\\begin{equation*}\n",
    "    \\nabla f(x) = - (Y_t - x) \\implies x_{t + 1} = x + \\alpha_t (Y_t - x)\n",
    "\\end{equation*}\n",
    "\n",
    "check for exam vector case same as discretized scalar - grad of v hat is x(s) where x(s) i is characteristic function of the states 1 s=i 0 s not i"
   ]
  },
  {
   "cell_type": "markdown",
   "id": "2526812c",
   "metadata": {},
   "source": [
    "### 4. grad/huber – Huber loss and gradient descent.\n",
    "Here, the 2-norm and the 1-norm are combined into a loss function. The Huber loss $L_\\delta : \\mathbb{R} \\mapsto \\mathbb{R}_0^+ $ is defined as \n",
    "\\begin{equation*}\n",
    "L_\\delta(a) = \\begin{cases}\n",
    "    \\frac{1}{2} a^2  & |a| \\leq \\delta, \\\\\n",
    "    \\lambda|a| + \\mu & |a| > \\delta, \n",
    "    \\end{cases}\n",
    "\\end{equation*}\n",
    "\n",
    "where $\\delta \\in \\mathbb{R}_0^+$ is a constant that defines the transition from quadratic to linear behavior.\n",
    "\n",
    "(a) Determine the constants $\\lambda, \\mu \\in \\mathbb{R}$ such that $L_\\delta$ is as smooth as possible.\n",
    "\n",
    "(b) For\n",
    "\\begin{equation*}\n",
    "    f(w_t) := L_\\delta (Y_t - \\hat{v}(s, w_t))\n",
    "\\end{equation*}\n",
    "in Exercise TDTABGRAD, what is resulting tabular update formula?\n",
    "\n",
    "(c) For more than one sample, we can consider the loss $\\sum_{i = 1}^d L_\\delta(a_i)$ of a vector $a \\in \\mathbb{R}^d$. What are its advantages compared to the 2-norm and the 1-norm when used in gradient descent?\n"
   ]
  },
  {
   "cell_type": "markdown",
   "id": "c75dc14f",
   "metadata": {},
   "source": [
    "(a) We want $L_\\delta(a)$ to be $C^1$ smooth: both value and derivative must be continuous at $|a| = \\delta$. Matching function values we have:\n",
    "\\begin{equation*}\n",
    "    \\frac{1}{2}\\delta^2 = \\lambda\\delta + \\mu\n",
    "\\end{equation*}\n",
    "Matching derivatives at $a = \\delta$ we have from one side:\n",
    "\\begin{equation*}\n",
    "    \\frac{d}{da} (\\frac{1}{2} a^2) = a = \\delta\n",
    "\\end{equation*}\n",
    "From the other side:\n",
    "\\begin{equation*}\n",
    "    \\frac{d}{da}(\\lambda |a| + \\mu) = \\lambda sign(a) = \\lambda,\n",
    "\\end{equation*}\n",
    "therefore we have $\\lambda = \\delta$.\n",
    "\n",
    "Now, going back to first equation we have:\n",
    "\\begin{equation*}\n",
    "    \\frac{1}{2} \\delta^2 = \\delta^2 + \\mu,\n",
    "\\end{equation*}\n",
    "from which we get $\\mu = - \\frac{1}{2} \\delta^2$.\n",
    "\n",
    "(b) We have $a = Y_t - V(S_t)$ (with assumption that $V(S_t) = \\hat{v}(s, w_t)$) so Huber loss takes this form:\n",
    "\n",
    "\\begin{equation*}\n",
    "    L_\\delta(Y_t - V(S_t)) = \\begin{cases}\n",
    "    \\frac{1}{2} (Y_t - V(S_t))^2, & |Y_t - V(S_t)| \\leq \\delta \\\\\n",
    "    \\delta |Y_t - V(S_t)| - \\frac{1}{2}\\delta^2  & |Y_t - V(S_t)| > \\delta\n",
    "    \\end{cases}\n",
    "\\end{equation*}\n",
    "\n",
    "So if we want to find resulting tabular update, we need to find derivatives in $L_\\delta(Y_t - V(S_t))$ by $V(S_t)$ (because that's what we update):\n",
    "\\begin{equation*}\n",
    "    V(S_t) = \\begin{cases}\n",
    "    V(S_t) + \\alpha_t (Y_t - V(S_t)), & |Y_t - V(S_t)| \\leq \\delta \\\\\n",
    "    V(S_t) + \\alpha_t \\delta sign(Y_t - V(S_t))  & |Y_t - V(S_t)| > \\delta\n",
    "    \\end{cases}\n",
    "\\end{equation*}\n",
    "\n",
    "(c) Advantages of Huber over 2-norm and 1-norm (it combines pros of both):\n",
    "\n",
    "- Less sensitive to outliers (robust like 1-norm when $|a| > \\delta$)\n",
    "- Smooth like 2-norm when $|a| \\leq \\delta$ (avoid problem with non-differentiability around 0 with 1-norm)\n",
    "- Gradient is bounded, avoiding exploding gradients"
   ]
  },
  {
   "cell_type": "markdown",
   "id": "33d29096",
   "metadata": {},
   "source": [
    "### 5. impl – SARSA.\n",
    "Implement SARSA and apply it to (at least) one of the environments you have implemented."
   ]
  },
  {
   "cell_type": "code",
   "execution_count": 4,
   "id": "ffbdcb28",
   "metadata": {},
   "outputs": [],
   "source": [
    "class CliffWalking:\n",
    "    def __init__(self, width=12, height=4):\n",
    "        self.height = height\n",
    "        self.width = width\n",
    "        self.start = (height - 1, 0)\n",
    "        self.goal = (height - 1, width - 1)\n",
    "        self.cliff = [(height - 1, i) for i in range(1, width - 1)]  # the cliff region\n",
    "        self.actions = ['up', 'down', 'left', 'right'] \n",
    "        self.state = self.start # current state\n",
    "        self.rewards = -1  # constant reward of -1 for each step\n",
    "        self.state_values = np.zeros((width, height))\n",
    "        self.action_space = len(self.actions)\n",
    "\n",
    "    def reset(self):\n",
    "        self.state = self.start\n",
    "        return self.state\n",
    "\n",
    "    def is_terminal(self, state):\n",
    "        return state == self.goal\n",
    "\n",
    "    def step(self, action): # make one step in the environment S_t, A_t -> R_t, S'_t\n",
    "        if self.state in self.cliff:\n",
    "            return self.start, -100  # if you step on a cliff -> go back to the start with -100 reward \n",
    "\n",
    "        # calculate next position based on current state and action\n",
    "        x, y = self.state\n",
    "        if action == 'up':\n",
    "            x = max(x - 1, 0)\n",
    "        elif action == 'down':\n",
    "            x = min(x + 1, self.height - 1)\n",
    "        elif action == 'left':\n",
    "            y = max(y - 1, 0)\n",
    "        elif action == 'right':\n",
    "            y = min(y + 1, self.width - 1)\n",
    "\n",
    "        next_state = (x, y)\n",
    "        # check if the next state is the cliff\n",
    "        if next_state in self.cliff:\n",
    "            self.reset()\n",
    "            return self.start, -100\n",
    "\n",
    "        self.state = next_state\n",
    "        return next_state, self.rewards # const -1"
   ]
  },
  {
   "cell_type": "code",
   "execution_count": 5,
   "id": "ebd36a21",
   "metadata": {},
   "outputs": [
    {
     "name": "stdout",
     "output_type": "stream",
     "text": [
      "Fell into the cliff, back to start. Current reward:  -103\n",
      "Fell into the cliff, back to start. Current reward:  -206\n",
      "Fell into the cliff, back to start. Current reward:  -312\n",
      "Fell into the cliff, back to start. Current reward:  -431\n",
      "Fell into the cliff, back to start. Current reward:  -532\n",
      "Fell into the cliff, back to start. Current reward:  -632\n",
      "Fell into the cliff, back to start. Current reward:  -732\n",
      "Fell into the cliff, back to start. Current reward:  -836\n",
      "Fell into the cliff, back to start. Current reward:  -942\n",
      "Fell into the cliff, back to start. Current reward:  -1044\n",
      "Fell into the cliff, back to start. Current reward:  -1146\n",
      "Fell into the cliff, back to start. Current reward:  -1248\n",
      "Fell into the cliff, back to start. Current reward:  -1355\n",
      "Fell into the cliff, back to start. Current reward:  -1473\n",
      "Fell into the cliff, back to start. Current reward:  -1573\n",
      "Fell into the cliff, back to start. Current reward:  -1673\n",
      "Fell into the cliff, back to start. Current reward:  -1773\n",
      "Fell into the cliff, back to start. Current reward:  -1875\n",
      "Fell into the cliff, back to start. Current reward:  -1985\n",
      "Fell into the cliff, back to start. Current reward:  -2124\n",
      "Fell into the cliff, back to start. Current reward:  -2224\n",
      "Fell into the cliff, back to start. Current reward:  -2324\n",
      "Fell into the cliff, back to start. Current reward:  -2483\n",
      "Fell into the cliff, back to start. Current reward:  -2583\n",
      "Fell into the cliff, back to start. Current reward:  -2693\n",
      "Fell into the cliff, back to start. Current reward:  -2802\n",
      "Fell into the cliff, back to start. Current reward:  -2908\n",
      "Fell into the cliff, back to start. Current reward:  -3026\n",
      "Fell into the cliff, back to start. Current reward:  -3147\n",
      "Fell into the cliff, back to start. Current reward:  -3248\n",
      "Fell into the cliff, back to start. Current reward:  -3354\n",
      "Fell into the cliff, back to start. Current reward:  -3459\n",
      "Fell into the cliff, back to start. Current reward:  -3559\n",
      "Fell into the cliff, back to start. Current reward:  -3679\n",
      "Fell into the cliff, back to start. Current reward:  -3779\n",
      "Fell into the cliff, back to start. Current reward:  -3879\n",
      "Reached goal, episode ends. Final reward:  -3956\n"
     ]
    }
   ],
   "source": [
    "def run_episode(gridworld, max_trials):\n",
    "    state = gridworld.reset() # come to the start\n",
    "    total_reward = 0\n",
    "    steps = []\n",
    "    while not gridworld.is_terminal(state): # as long as the goal isn't reached\n",
    "        action = np.random.choice(gridworld.actions)  # random policy for demonstration\n",
    "        next_state, reward = gridworld.step(action)\n",
    "        total_reward += reward\n",
    "        steps.append((state, action))\n",
    "        state = next_state\n",
    "        if state == gridworld.start and reward == -100:\n",
    "            print(\"Fell into the cliff, back to start. Current reward: \", total_reward)\n",
    "        if gridworld.is_terminal(state):\n",
    "            print(\"Reached goal, episode ends. Final reward: \", total_reward)\n",
    "            break\n",
    "        # not cliff, not goal -> just continue moving\n",
    "    return total_reward, steps\n",
    "\n",
    "cliff_grid_world = CliffWalking(width=12, height=4)\n",
    "episode_reward, steps = run_episode(cliff_grid_world, max_trials=20)"
   ]
  },
  {
   "cell_type": "code",
   "execution_count": 12,
   "id": "959ddd9b",
   "metadata": {},
   "outputs": [],
   "source": [
    "def epsilon_greedy_policy(Q, state, epsilon):\n",
    "    if np.random.rand() < epsilon:\n",
    "        return np.random.choice(len(Q[state])) # take non-greedy (random) action\n",
    "    else:\n",
    "        # take a greedy action, breaking ties randomly\n",
    "        max_indices = np.flatnonzero(Q[state] == np.max(Q[state]))\n",
    "        return np.random.choice(max_indices)"
   ]
  },
  {
   "cell_type": "code",
   "execution_count": null,
   "id": "778606b2",
   "metadata": {},
   "outputs": [],
   "source": [
    "def sarsa(gridworld, num_episodes, alpha=0.1, gamma=1, epsilon=0.1):\n",
    "    Q = np.zeros((gridworld.height, gridworld.width, gridworld.action_space))\n",
    "    episode_rewards = [] \n",
    "    for episode_i in range(num_episodes):\n",
    "        # start a new episode\n",
    "        state = gridworld.reset()\n",
    "        total_reward = 0\n",
    "        action = epsilon_greedy_policy(Q, state, epsilon) # A\n",
    "        while not gridworld.is_terminal(state):  # loop for each step of episode\n",
    "            next_state, reward = gridworld.step(gridworld.actions[action]) # S, A -> S', R\n",
    "            next_action = epsilon_greedy_policy(Q, next_state, epsilon) # A'\n",
    "            total_reward += reward\n",
    "            # update formula\n",
    "            Q[state][action] += alpha * (reward + gamma * Q[next_state][next_action] - Q[state][action])\n",
    "            state = next_state\n",
    "            action = next_action\n",
    "            total_reward += reward\n",
    "\n",
    "        episode_rewards.append(total_reward)\n",
    "                                                       \n",
    "    return Q, episode_rewards"
   ]
  },
  {
   "cell_type": "code",
   "execution_count": 14,
   "id": "8734969f",
   "metadata": {},
   "outputs": [],
   "source": [
    "cliff_grid_world = CliffWalking(width=12, height=4)\n",
    "Q_values, _ = sarsa(cliff_grid_world, num_episodes=5000, alpha=0.1, gamma=1, epsilon=0.1)"
   ]
  },
  {
   "cell_type": "code",
   "execution_count": 15,
   "id": "82b48a33",
   "metadata": {},
   "outputs": [],
   "source": [
    "def print_optimal_policy(Q, gridworld):\n",
    "    direction_map = {0: '↑ ', 1: '↓ ', 2: '← ', 3: '→ '}\n",
    "    optimal_policy = np.argmax(Q, axis=2) # find the optimal policy\n",
    "    for i in range(gridworld.height):\n",
    "        row = \"\"\n",
    "        for j in range(gridworld.width):\n",
    "            if (i, j) == gridworld.start:\n",
    "                row += \"S   \"\n",
    "            elif (i, j) == gridworld.goal:\n",
    "                row += \"G   \"\n",
    "            elif (i, j) in gridworld.cliff:\n",
    "                row += \"X   \"\n",
    "            else:\n",
    "                row += direction_map[optimal_policy[i][j]] + \"  \"\n",
    "        print(row)"
   ]
  },
  {
   "cell_type": "code",
   "execution_count": 20,
   "id": "b424196c",
   "metadata": {},
   "outputs": [
    {
     "name": "stdout",
     "output_type": "stream",
     "text": [
      "→   →   →   →   →   →   →   →   →   →   →   ↓   \n",
      "→   →   →   →   →   →   →   →   →   →   →   ↓   \n",
      "↑   ↑   ↑   ↑   ↑   ↑   ↑   ↑   ↑   ↑   →   ↓   \n",
      "S   X   X   X   X   X   X   X   X   X   X   G   \n"
     ]
    }
   ],
   "source": [
    "print_optimal_policy(Q_values, cliff_grid_world)"
   ]
  },
  {
   "cell_type": "markdown",
   "id": "9539cc6c",
   "metadata": {},
   "source": [
    "### 6. impl – Expected SARSA.\n",
    "Implement expected SARSA and apply it to (at least) one of the environments you have implemented."
   ]
  },
  {
   "cell_type": "code",
   "execution_count": 21,
   "id": "d56491ae",
   "metadata": {},
   "outputs": [],
   "source": [
    "def expected_sarsa(gridworld, num_episodes, alpha=0.1, gamma=1, epsilon=0.1):\n",
    "    Q = np.zeros(shape=(gridworld.height, gridworld.width, gridworld.action_space))\n",
    "    episode_rewards = []\n",
    "    for episode_i in range(num_episodes):\n",
    "        # start a new episode\n",
    "        state = gridworld.reset()\n",
    "        total_reward = 0\n",
    "        while not gridworld.is_terminal(state): # loop for each step of episode\n",
    "            action = epsilon_greedy_policy(Q, state, epsilon) # A\n",
    "            next_state, reward = gridworld.step(gridworld.actions[action]) # S, A -> S', R\n",
    "            total_reward += reward\n",
    "            # compute expected Q value (over (S', A') pairs)\n",
    "            expected_q = 0\n",
    "            for a in range(gridworld.action_space): # go through all posible A'\n",
    "                if a != np.argmax(Q[next_state]):  # if not the greedy action\n",
    "                    action_prob = epsilon / gridworld.action_space\n",
    "                else:\n",
    "                    action_prob = 1 - epsilon + epsilon / gridworld.action_space\n",
    "                    \n",
    "                expected_q += action_prob * Q[next_state[0], next_state[1], a]\n",
    "\n",
    "            # update formula\n",
    "            Q[state][action] += alpha * (reward + gamma * expected_q - Q[state][action])\n",
    "            state = next_state\n",
    "\n",
    "        episode_rewards.append(total_reward)\n",
    "        # print(f\"Episode: {episode_i}, finished after: {time.time() - start_time}\")\n",
    "        \n",
    "    return Q, episode_rewards\n"
   ]
  },
  {
   "cell_type": "code",
   "execution_count": 22,
   "id": "ac240f11",
   "metadata": {},
   "outputs": [],
   "source": [
    "cliff_grid_world = CliffWalking(width=12, height=4)\n",
    "Q_values, _ = expected_sarsa(cliff_grid_world, num_episodes=5000, alpha=0.1, gamma=1, epsilon=0.2)"
   ]
  },
  {
   "cell_type": "code",
   "execution_count": 23,
   "id": "573dcd56",
   "metadata": {},
   "outputs": [
    {
     "name": "stdout",
     "output_type": "stream",
     "text": [
      "→   →   →   →   →   →   →   →   →   →   →   ↓   \n",
      "↑   →   →   →   →   →   →   →   →   →   →   ↓   \n",
      "↑   ↑   ↑   ↑   ↑   ↑   ↑   ↑   ↑   ↑   →   ↓   \n",
      "S   X   X   X   X   X   X   X   X   X   X   G   \n"
     ]
    }
   ],
   "source": [
    "print_optimal_policy(Q_values, cliff_grid_world)"
   ]
  },
  {
   "cell_type": "markdown",
   "id": "cc5069d3",
   "metadata": {},
   "source": [
    "### 7. impl – Q-learning. \n",
    "Implement Q-learning and apply it to (at least) one of the environments you have implemented."
   ]
  },
  {
   "cell_type": "code",
   "execution_count": 24,
   "id": "66af998d",
   "metadata": {},
   "outputs": [],
   "source": [
    "def q_learning(gridworld, num_episodes, alpha=0.1, gamma=1, epsilon=0.1):\n",
    "    Q = np.zeros(shape=(gridworld.height, gridworld.width, len(gridworld.actions)))\n",
    "    episode_rewards = []\n",
    "    for episode_i in range(num_episodes):\n",
    "        # start a new episode\n",
    "        state = gridworld.reset()\n",
    "        total_reward = 0\n",
    "        while not gridworld.is_terminal(state): # loop for each step of episode\n",
    "            action = epsilon_greedy_policy(Q, state, epsilon)\n",
    "            next_state, reward = gridworld.step(gridworld.actions[action]) # S, A -> S', R\n",
    "            total_reward += reward\n",
    "            best_next_action = np.argmax(Q[next_state])  # find the best next action using current Q estimate (optimistic approach)\n",
    "            # update formula\n",
    "            Q[state][action] += alpha * (reward + gamma * Q[next_state][best_next_action] - Q[state][action])\n",
    "            state = next_state\n",
    "        episode_rewards.append(total_reward)\n",
    "    return Q, episode_rewards"
   ]
  },
  {
   "cell_type": "code",
   "execution_count": 25,
   "id": "64cdf41d",
   "metadata": {},
   "outputs": [],
   "source": [
    "cliff_grid_world = CliffWalking(width=12, height=4)\n",
    "Q_values, rewards = q_learning(cliff_grid_world, num_episodes=5000, alpha=0.1, gamma=1, epsilon=0.1)"
   ]
  },
  {
   "cell_type": "code",
   "execution_count": 26,
   "id": "b842491a",
   "metadata": {},
   "outputs": [
    {
     "name": "stdout",
     "output_type": "stream",
     "text": [
      "→   →   →   →   →   →   →   →   →   →   ↓   ↓   \n",
      "→   ↓   →   →   →   ↓   ↓   ↓   →   ↓   ↓   ↓   \n",
      "→   →   →   →   →   →   →   →   →   →   →   ↓   \n",
      "S   X   X   X   X   X   X   X   X   X   X   G   \n"
     ]
    }
   ],
   "source": [
    "print_optimal_policy(Q_values, cliff_grid_world)"
   ]
  },
  {
   "cell_type": "markdown",
   "id": "dd8d6bb1",
   "metadata": {},
   "source": [
    "### 8. impl – Double Q-learning.\n",
    "Implement double Q-learning and apply it to (at least) one of the environments you have implemented."
   ]
  },
  {
   "cell_type": "code",
   "execution_count": 27,
   "id": "9999504c",
   "metadata": {},
   "outputs": [],
   "source": [
    "def epsilon_greedy_policy_double(Q_1, Q_2, state, epsilon):\n",
    "    if np.random.rand() < epsilon:\n",
    "        return np.random.choice(range(len(Q_1[state]))) # take non-greedy (random) action\n",
    "    else:\n",
    "        # take a greedy action (based on \"combined\" value function e.g. sum(Q_1 + Q_2), avg(Q_1 + Q_2)), breaking ties randomly\n",
    "        max_indices = np.flatnonzero((Q_1[state] + Q_2[state]) == np.max(Q_1[state] + Q_2[state]))\n",
    "        return np.random.choice(max_indices)"
   ]
  },
  {
   "cell_type": "code",
   "execution_count": 28,
   "id": "41a9ecca",
   "metadata": {},
   "outputs": [],
   "source": [
    "def double_q_learning(gridworld, num_episodes, alpha=0.1, gamma=1, epsilon=0.1):\n",
    "    Q_1 = np.zeros(shape=(gridworld.height, gridworld.width, gridworld.action_space))\n",
    "    Q_2 = np.zeros(shape=(gridworld.height, gridworld.width, gridworld.action_space))\n",
    "    episode_rewards = [] # for plotting for task 4\n",
    "    for episode_i in range(num_episodes):\n",
    "        # start a new episode\n",
    "        state = gridworld.reset()\n",
    "        total_reward = 0\n",
    "        while not gridworld.is_terminal(state): # loop for each step of episode\n",
    "            action = epsilon_greedy_policy_double(Q_1, Q_2, state, epsilon) # A\n",
    "            next_state, reward = gridworld.step(gridworld.actions[action]) # S, A -> S', R\n",
    "            total_reward += reward\n",
    "            if np.random.rand() < 0.5: # flip a coin\n",
    "                # updating Q_1\n",
    "                best_next_action = np.argmax(Q_1[next_state]) # A'\n",
    "                Q_1[state][action] += alpha * (reward + gamma * Q_2[next_state][best_next_action] - Q_1[state][action])\n",
    "            else:\n",
    "                # updating Q_2\n",
    "                best_next_action = np.argmax(Q_2[next_state]) # A'\n",
    "                Q_2[state][action] += alpha * (reward + gamma * Q_1[next_state][best_next_action] - Q_2[state][action])\n",
    "\n",
    "            state = next_state\n",
    "        episode_rewards.append(total_reward)\n",
    "        \n",
    "    return Q_1, Q_2, episode_rewards"
   ]
  },
  {
   "cell_type": "code",
   "execution_count": 29,
   "id": "b0d7bc56",
   "metadata": {},
   "outputs": [],
   "source": [
    "cliff_grid_world = CliffWalking(width=12, height=4)\n",
    "Q1_values, Q2_values, _ = double_q_learning(cliff_grid_world, num_episodes=5000, alpha=0.1, gamma=1, epsilon=0.2)"
   ]
  },
  {
   "cell_type": "code",
   "execution_count": 33,
   "id": "a677be72",
   "metadata": {},
   "outputs": [
    {
     "name": "stdout",
     "output_type": "stream",
     "text": [
      "↓   ↓   ↓   ↓   →   ↓   ↓   ↓   ↓   →   →   ↓   \n",
      "↓   ↓   ↓   ↓   →   ↓   ↓   →   ↓   ↓   →   ↓   \n",
      "→   →   →   →   →   →   →   →   →   →   →   ↓   \n",
      "S   X   X   X   X   X   X   X   X   X   X   G   \n"
     ]
    }
   ],
   "source": [
    "# overall (optimal) policy: combination of Q_1, Q_2\n",
    "Q_optimal = Q1_values + Q2_values \n",
    "print_optimal_policy(Q_optimal, cliff_grid_world)"
   ]
  },
  {
   "cell_type": "markdown",
   "id": "acafda6b",
   "metadata": {},
   "source": [
    "### 9. td/tab/speedyqlearning – Tabular Speedy Q-learning (programming).\n",
    "In [2], the Q-learning variant\n",
    "\\begin{align*}\n",
    "    Q_{t + 1}(s, a) &:= Q_t(s, a) + \\alpha_t(\\mathcal{B}_t Q_{t - 1}(s, a) - Q_t(s, a)) + (1 - \\alpha_t)(\\mathcal{B}_t Q_t(s, a) - \\mathcal{B}_t Q_{t - 1}(s, a)), \\\\\n",
    "    \\alpha_t &:= \\frac{1}{t + 1}, \\\\\n",
    "    \\mathcal{B}_t Q_t(s, a) &:= R_{t + 1} + \\gamma \\max_a Q_t(S_{t + 1}, a), \n",
    "\\end{align*}\n",
    "\n",
    "was defined and called Speedy Q-learning. (Here $\\mathcal{B}_t$ is the (usual) empirical Bellman operator. Note that it is applied to $Q_t(s, a)$ and to $Q_{t - 1}(s, a)$. Implement Speedy Q-learning for estimating $q_*$ and use it to estimate $\\pi_*$ for cliff walking in Exercise gw/cliff.\n",
    "Compare Q-learning and Speedy Q-learning with the learning rate defined above and with adjusted learning rates. Which algorithm converges faster? What is influence of learning rate?"
   ]
  },
  {
   "cell_type": "code",
   "execution_count": null,
   "id": "7891412b",
   "metadata": {},
   "outputs": [],
   "source": [
    "def speedy_q_learning(grid_world, num_episodes, gamma=1, epsilon=0.1):\n",
    "    Q = np.zeros(shape=(grid_world.height, grid_world.width, len(grid_world.actions))) # t\n",
    "    Q_old = np.zeros_like(Q) # t-1 (previous time step)\n",
    "    episode_rewards = []\n",
    "\n",
    "    for episode_i in range(num_episodes):\n",
    "        # start a new episode\n",
    "        state = grid_world.reset()\n",
    "        total_reward = 0  # reset total reward for the new episode\n",
    "        step = 0\n",
    "        while not grid_world.is_terminal(state): # loop for each step of episode\n",
    "            alpha = 1 / (step + 1) # dynamic learning rate (decreasing as time porgresses) -> bigger steps at the beginning, smaller at the end\n",
    "            action = epsilon_greedy_policy(Q, state, epsilon) # A\n",
    "            next_state, reward = grid_world.step(grid_world.actions[action]) # S, A -> S', R\n",
    "            total_reward += reward\n",
    "\n",
    "            # find the best next action using current and previous Q tables (Q_t and Q_t-1)\n",
    "            best_next_action = np.argmax(Q[next_state])\n",
    "            best_next_action_old = np.argmax(Q_old[next_state])\n",
    "\n",
    "            # update formula\n",
    "            Q_old[state][action] = Q[state][action]  # update old Q, with current\n",
    "            Q[state][action] += alpha * (reward + gamma * Q_old[next_state][best_next_action_old] - Q[state][action])\n",
    "            # alpha shouldn't multiply here again :( but didn't work well without it\n",
    "            Q[state][action] += alpha * ((1 - alpha) * (reward + gamma * Q[next_state][best_next_action] - reward - gamma * Q_old[next_state][best_next_action_old]))\n",
    "\n",
    "            state = next_state\n",
    "            step += 1\n",
    "\n",
    "        episode_rewards.append(total_reward)  # store the accumulated reward for the episode, reason: plotting\n",
    "    return Q, episode_rewards"
   ]
  },
  {
   "cell_type": "code",
   "execution_count": 36,
   "id": "fa8334f4",
   "metadata": {},
   "outputs": [],
   "source": [
    "cliff_grid_world = CliffWalking(width=12, height=4)\n",
    "Q_values_speedy, rewards = speedy_q_learning(cliff_grid_world, num_episodes=5000, gamma=1, epsilon=0.2)"
   ]
  },
  {
   "cell_type": "code",
   "execution_count": 38,
   "id": "0c743408",
   "metadata": {},
   "outputs": [
    {
     "name": "stdout",
     "output_type": "stream",
     "text": [
      "→   →   ←   →   →   →   →   →   →   ↓   ↓   ↓   \n",
      "↓   →   →   →   →   →   →   →   →   →   ↓   ↓   \n",
      "→   →   →   →   →   →   →   →   →   →   →   ↓   \n",
      "S   X   X   X   X   X   X   X   X   X   X   G   \n"
     ]
    }
   ],
   "source": [
    "print_optimal_policy(Q_values_speedy, cliff_grid_world)"
   ]
  },
  {
   "cell_type": "code",
   "execution_count": 40,
   "id": "a48b0d2a",
   "metadata": {},
   "outputs": [],
   "source": [
    "cliff_grid_world = CliffWalking(width=12, height=4)\n",
    "Q_values, rewards = q_learning(cliff_grid_world, num_episodes=5000, alpha=0.1, gamma=1, epsilon=0.1)"
   ]
  },
  {
   "cell_type": "code",
   "execution_count": 44,
   "id": "db553081",
   "metadata": {},
   "outputs": [
    {
     "name": "stdout",
     "output_type": "stream",
     "text": [
      "↑   →   →   →   →   →   →   ↓   →   →   ↓   ↓   \n",
      "↓   ↓   →   ↓   →   →   →   ↓   ↓   ↓   →   ↓   \n",
      "→   →   →   →   →   →   →   →   →   →   →   ↓   \n",
      "S   X   X   X   X   X   X   X   X   X   X   G   \n"
     ]
    }
   ],
   "source": [
    "print_optimal_policy(Q_values, cliff_grid_world)"
   ]
  },
  {
   "cell_type": "code",
   "execution_count": 45,
   "id": "ab1c1a41",
   "metadata": {},
   "outputs": [],
   "source": [
    "num_episodes = 5000\n",
    "alpha = 0.2\n",
    "gamma = 1\n",
    "epsilon = 0.2\n",
    "\n",
    "grid_world = CliffWalking(width=12, height=4)\n",
    "\n",
    "# 2 algorithms\n",
    "_, rewards_q_learning = q_learning(grid_world, num_episodes=num_episodes, alpha=alpha, gamma=gamma, epsilon=epsilon)\n",
    "_, rewards_speedy_q_learning = speedy_q_learning(grid_world, num_episodes=num_episodes, gamma=gamma)"
   ]
  },
  {
   "cell_type": "code",
   "execution_count": 46,
   "id": "20464f45",
   "metadata": {},
   "outputs": [
    {
     "data": {
      "image/png": "[encoded data removed]",
      "text/plain": [
       "<Figure size 1000x500 with 1 Axes>"
      ]
     },
     "metadata": {},
     "output_type": "display_data"
    }
   ],
   "source": [
    "plt.figure(figsize=(10, 5))\n",
    "plt.plot(rewards_q_learning, label='Q-learning')\n",
    "plt.plot(rewards_speedy_q_learning, label='speedy Q-learning')\n",
    "plt.xlabel('episodes')\n",
    "plt.ylabel('total reward accumulated in the episode')\n",
    "plt.title('Q-learning and speedy-Q-learning: comparison')\n",
    "plt.legend()\n",
    "plt.grid(linewidth=0.5)\n",
    "plt.show()"
   ]
  }
 ],
 "metadata": {
  "kernelspec": {
   "display_name": "venv",
   "language": "python",
   "name": "python3"
  },
  "language_info": {
   "codemirror_mode": {
    "name": "ipython",
    "version": 3
   },
   "file_extension": ".py",
   "mimetype": "text/x-python",
   "name": "python",
   "nbconvert_exporter": "python",
   "pygments_lexer": "ipython3",
   "version": "3.11.5"
  }
 },
 "nbformat": 4,
 "nbformat_minor": 5
}
